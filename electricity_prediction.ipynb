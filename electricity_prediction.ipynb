{
  "cells": [
    {
      "cell_type": "markdown",
      "metadata": {},
      "source": [
        "```Problem 3: Collect your own dataset which consists at least two features and one target variable. Build a linear regression model to predict the target variable. Split your dataset into training set (80 %) and testing set (20 %).```"
      ]
    },
    {
      "cell_type": "code",
      "execution_count": null,
      "metadata": {
        "id": "EBKQ21zDZn2i"
      },
      "outputs": [],
      "source": [
        "import numpy as np\n",
        "import pandas as pd\n",
        "import matplotlib.pyplot as plt"
      ]
    },
    {
      "cell_type": "markdown",
      "metadata": {
        "id": "W82FaCfjaO5C"
      },
      "source": [
        "Source of data : https://people.sc.fsu.edu/~jburkardt/datasets/regression/regression.html\n",
        "\n",
        "Original Source : **Mathematical Algorithms for Linear Regression Book**"
      ]
    },
    {
      "cell_type": "markdown",
      "metadata": {
        "id": "U2VR177c80Hx"
      },
      "source": [
        "**Data from various public electricity supply authorities was collected.**\n",
        "\n",
        "- Captial Cost : cost on constructing, maintaining power plants. (more money on investing => better equipments => more electricity)\n",
        "\n",
        "- Labor Cost : cost on works. (more workers => more electricity)\n",
        "\n",
        "- Energy cost : cost on buying raw materials to produce electricity. (more materials => more electricity)\n",
        "\n",
        "- Electricity Output (million kilowatts) : how much electricity is produced."
      ]
    },
    {
      "cell_type": "markdown",
      "metadata": {
        "id": "wSDYcucUZwX5"
      },
      "source": [
        "## 1. Import Data"
      ]
    },
    {
      "cell_type": "code",
      "execution_count": null,
      "metadata": {
        "id": "zjZvMysQZn2j"
      },
      "outputs": [],
      "source": [
        "df = pd.read_fwf('x12.txt', names=['capital_cost', 'labor_cost', 'energy_cost', 'electricity_output(mkw)'])"
      ]
    },
    {
      "cell_type": "code",
      "execution_count": null,
      "metadata": {
        "colab": {
          "base_uri": "https://localhost:8080/",
          "height": 206
        },
        "id": "S67lBg34Zn2j",
        "outputId": "bbfd80e7-10be-4cc9-f629-35a44044c664"
      },
      "outputs": [
        {
          "data": {
            "application/vnd.google.colaboratory.intrinsic+json": {
              "summary": "{\n  \"name\": \"df\",\n  \"rows\": 16,\n  \"fields\": [\n    {\n      \"column\": \"capital_cost\",\n      \"properties\": {\n        \"dtype\": \"number\",\n        \"std\": 241.64071290160487,\n        \"min\": 19.478,\n        \"max\": 946.766,\n        \"num_unique_values\": 16,\n        \"samples\": [\n          98.288,\n          255.068,\n          138.283\n        ],\n        \"semantic_type\": \"\",\n        \"description\": \"\"\n      }\n    },\n    {\n      \"column\": \"labor_cost\",\n      \"properties\": {\n        \"dtype\": \"number\",\n        \"std\": 1.0249925507859394,\n        \"min\": 0.115,\n        \"max\": 4.004,\n        \"num_unique_values\": 16,\n        \"samples\": [\n          0.386,\n          1.179,\n          1.085\n        ],\n        \"semantic_type\": \"\",\n        \"description\": \"\"\n      }\n    },\n    {\n      \"column\": \"energy_cost\",\n      \"properties\": {\n        \"dtype\": \"number\",\n        \"std\": 35.31421437319303,\n        \"min\": 1.739,\n        \"max\": 125.351,\n        \"num_unique_values\": 16,\n        \"samples\": [\n          13.219,\n          49.145,\n          9.027\n        ],\n        \"semantic_type\": \"\",\n        \"description\": \"\"\n      }\n    },\n    {\n      \"column\": \"electricity_output(mkw)\",\n      \"properties\": {\n        \"dtype\": \"number\",\n        \"std\": 3.2941700971817878,\n        \"min\": 0.125,\n        \"max\": 10.077,\n        \"num_unique_values\": 16,\n        \"samples\": [\n          1.27,\n          4.597,\n          1.832\n        ],\n        \"semantic_type\": \"\",\n        \"description\": \"\"\n      }\n    }\n  ]\n}",
              "type": "dataframe",
              "variable_name": "df"
            },
            "text/html": [
              "\n",
              "  <div id=\"df-e68ca825-9ce8-4b87-8be1-01b5a603ff9c\" class=\"colab-df-container\">\n",
              "    <div>\n",
              "<style scoped>\n",
              "    .dataframe tbody tr th:only-of-type {\n",
              "        vertical-align: middle;\n",
              "    }\n",
              "\n",
              "    .dataframe tbody tr th {\n",
              "        vertical-align: top;\n",
              "    }\n",
              "\n",
              "    .dataframe thead th {\n",
              "        text-align: right;\n",
              "    }\n",
              "</style>\n",
              "<table border=\"1\" class=\"dataframe\">\n",
              "  <thead>\n",
              "    <tr style=\"text-align: right;\">\n",
              "      <th></th>\n",
              "      <th>capital_cost</th>\n",
              "      <th>labor_cost</th>\n",
              "      <th>energy_cost</th>\n",
              "      <th>electricity_output(mkw)</th>\n",
              "    </tr>\n",
              "  </thead>\n",
              "  <tbody>\n",
              "    <tr>\n",
              "      <th>0</th>\n",
              "      <td>98.288</td>\n",
              "      <td>0.386</td>\n",
              "      <td>13.219</td>\n",
              "      <td>1.270</td>\n",
              "    </tr>\n",
              "    <tr>\n",
              "      <th>1</th>\n",
              "      <td>255.068</td>\n",
              "      <td>1.179</td>\n",
              "      <td>49.145</td>\n",
              "      <td>4.597</td>\n",
              "    </tr>\n",
              "    <tr>\n",
              "      <th>2</th>\n",
              "      <td>208.904</td>\n",
              "      <td>0.532</td>\n",
              "      <td>18.005</td>\n",
              "      <td>1.985</td>\n",
              "    </tr>\n",
              "    <tr>\n",
              "      <th>3</th>\n",
              "      <td>528.864</td>\n",
              "      <td>1.836</td>\n",
              "      <td>75.639</td>\n",
              "      <td>9.897</td>\n",
              "    </tr>\n",
              "    <tr>\n",
              "      <th>4</th>\n",
              "      <td>307.419</td>\n",
              "      <td>1.136</td>\n",
              "      <td>52.234</td>\n",
              "      <td>5.907</td>\n",
              "    </tr>\n",
              "  </tbody>\n",
              "</table>\n",
              "</div>\n",
              "    <div class=\"colab-df-buttons\">\n",
              "\n",
              "  <div class=\"colab-df-container\">\n",
              "    <button class=\"colab-df-convert\" onclick=\"convertToInteractive('df-e68ca825-9ce8-4b87-8be1-01b5a603ff9c')\"\n",
              "            title=\"Convert this dataframe to an interactive table.\"\n",
              "            style=\"display:none;\">\n",
              "\n",
              "  <svg xmlns=\"http://www.w3.org/2000/svg\" height=\"24px\" viewBox=\"0 -960 960 960\">\n",
              "    <path d=\"M120-120v-720h720v720H120Zm60-500h600v-160H180v160Zm220 220h160v-160H400v160Zm0 220h160v-160H400v160ZM180-400h160v-160H180v160Zm440 0h160v-160H620v160ZM180-180h160v-160H180v160Zm440 0h160v-160H620v160Z\"/>\n",
              "  </svg>\n",
              "    </button>\n",
              "\n",
              "  <style>\n",
              "    .colab-df-container {\n",
              "      display:flex;\n",
              "      gap: 12px;\n",
              "    }\n",
              "\n",
              "    .colab-df-convert {\n",
              "      background-color: #E8F0FE;\n",
              "      border: none;\n",
              "      border-radius: 50%;\n",
              "      cursor: pointer;\n",
              "      display: none;\n",
              "      fill: #1967D2;\n",
              "      height: 32px;\n",
              "      padding: 0 0 0 0;\n",
              "      width: 32px;\n",
              "    }\n",
              "\n",
              "    .colab-df-convert:hover {\n",
              "      background-color: #E2EBFA;\n",
              "      box-shadow: 0px 1px 2px rgba(60, 64, 67, 0.3), 0px 1px 3px 1px rgba(60, 64, 67, 0.15);\n",
              "      fill: #174EA6;\n",
              "    }\n",
              "\n",
              "    .colab-df-buttons div {\n",
              "      margin-bottom: 4px;\n",
              "    }\n",
              "\n",
              "    [theme=dark] .colab-df-convert {\n",
              "      background-color: #3B4455;\n",
              "      fill: #D2E3FC;\n",
              "    }\n",
              "\n",
              "    [theme=dark] .colab-df-convert:hover {\n",
              "      background-color: #434B5C;\n",
              "      box-shadow: 0px 1px 3px 1px rgba(0, 0, 0, 0.15);\n",
              "      filter: drop-shadow(0px 1px 2px rgba(0, 0, 0, 0.3));\n",
              "      fill: #FFFFFF;\n",
              "    }\n",
              "  </style>\n",
              "\n",
              "    <script>\n",
              "      const buttonEl =\n",
              "        document.querySelector('#df-e68ca825-9ce8-4b87-8be1-01b5a603ff9c button.colab-df-convert');\n",
              "      buttonEl.style.display =\n",
              "        google.colab.kernel.accessAllowed ? 'block' : 'none';\n",
              "\n",
              "      async function convertToInteractive(key) {\n",
              "        const element = document.querySelector('#df-e68ca825-9ce8-4b87-8be1-01b5a603ff9c');\n",
              "        const dataTable =\n",
              "          await google.colab.kernel.invokeFunction('convertToInteractive',\n",
              "                                                    [key], {});\n",
              "        if (!dataTable) return;\n",
              "\n",
              "        const docLinkHtml = 'Like what you see? Visit the ' +\n",
              "          '<a target=\"_blank\" href=https://colab.research.google.com/notebooks/data_table.ipynb>data table notebook</a>'\n",
              "          + ' to learn more about interactive tables.';\n",
              "        element.innerHTML = '';\n",
              "        dataTable['output_type'] = 'display_data';\n",
              "        await google.colab.output.renderOutput(dataTable, element);\n",
              "        const docLink = document.createElement('div');\n",
              "        docLink.innerHTML = docLinkHtml;\n",
              "        element.appendChild(docLink);\n",
              "      }\n",
              "    </script>\n",
              "  </div>\n",
              "\n",
              "\n",
              "<div id=\"df-4512fb57-080a-46b1-b2b5-c9b1d0fdf641\">\n",
              "  <button class=\"colab-df-quickchart\" onclick=\"quickchart('df-4512fb57-080a-46b1-b2b5-c9b1d0fdf641')\"\n",
              "            title=\"Suggest charts\"\n",
              "            style=\"display:none;\">\n",
              "\n",
              "<svg xmlns=\"http://www.w3.org/2000/svg\" height=\"24px\"viewBox=\"0 0 24 24\"\n",
              "     width=\"24px\">\n",
              "    <g>\n",
              "        <path d=\"M19 3H5c-1.1 0-2 .9-2 2v14c0 1.1.9 2 2 2h14c1.1 0 2-.9 2-2V5c0-1.1-.9-2-2-2zM9 17H7v-7h2v7zm4 0h-2V7h2v10zm4 0h-2v-4h2v4z\"/>\n",
              "    </g>\n",
              "</svg>\n",
              "  </button>\n",
              "\n",
              "<style>\n",
              "  .colab-df-quickchart {\n",
              "      --bg-color: #E8F0FE;\n",
              "      --fill-color: #1967D2;\n",
              "      --hover-bg-color: #E2EBFA;\n",
              "      --hover-fill-color: #174EA6;\n",
              "      --disabled-fill-color: #AAA;\n",
              "      --disabled-bg-color: #DDD;\n",
              "  }\n",
              "\n",
              "  [theme=dark] .colab-df-quickchart {\n",
              "      --bg-color: #3B4455;\n",
              "      --fill-color: #D2E3FC;\n",
              "      --hover-bg-color: #434B5C;\n",
              "      --hover-fill-color: #FFFFFF;\n",
              "      --disabled-bg-color: #3B4455;\n",
              "      --disabled-fill-color: #666;\n",
              "  }\n",
              "\n",
              "  .colab-df-quickchart {\n",
              "    background-color: var(--bg-color);\n",
              "    border: none;\n",
              "    border-radius: 50%;\n",
              "    cursor: pointer;\n",
              "    display: none;\n",
              "    fill: var(--fill-color);\n",
              "    height: 32px;\n",
              "    padding: 0;\n",
              "    width: 32px;\n",
              "  }\n",
              "\n",
              "  .colab-df-quickchart:hover {\n",
              "    background-color: var(--hover-bg-color);\n",
              "    box-shadow: 0 1px 2px rgba(60, 64, 67, 0.3), 0 1px 3px 1px rgba(60, 64, 67, 0.15);\n",
              "    fill: var(--button-hover-fill-color);\n",
              "  }\n",
              "\n",
              "  .colab-df-quickchart-complete:disabled,\n",
              "  .colab-df-quickchart-complete:disabled:hover {\n",
              "    background-color: var(--disabled-bg-color);\n",
              "    fill: var(--disabled-fill-color);\n",
              "    box-shadow: none;\n",
              "  }\n",
              "\n",
              "  .colab-df-spinner {\n",
              "    border: 2px solid var(--fill-color);\n",
              "    border-color: transparent;\n",
              "    border-bottom-color: var(--fill-color);\n",
              "    animation:\n",
              "      spin 1s steps(1) infinite;\n",
              "  }\n",
              "\n",
              "  @keyframes spin {\n",
              "    0% {\n",
              "      border-color: transparent;\n",
              "      border-bottom-color: var(--fill-color);\n",
              "      border-left-color: var(--fill-color);\n",
              "    }\n",
              "    20% {\n",
              "      border-color: transparent;\n",
              "      border-left-color: var(--fill-color);\n",
              "      border-top-color: var(--fill-color);\n",
              "    }\n",
              "    30% {\n",
              "      border-color: transparent;\n",
              "      border-left-color: var(--fill-color);\n",
              "      border-top-color: var(--fill-color);\n",
              "      border-right-color: var(--fill-color);\n",
              "    }\n",
              "    40% {\n",
              "      border-color: transparent;\n",
              "      border-right-color: var(--fill-color);\n",
              "      border-top-color: var(--fill-color);\n",
              "    }\n",
              "    60% {\n",
              "      border-color: transparent;\n",
              "      border-right-color: var(--fill-color);\n",
              "    }\n",
              "    80% {\n",
              "      border-color: transparent;\n",
              "      border-right-color: var(--fill-color);\n",
              "      border-bottom-color: var(--fill-color);\n",
              "    }\n",
              "    90% {\n",
              "      border-color: transparent;\n",
              "      border-bottom-color: var(--fill-color);\n",
              "    }\n",
              "  }\n",
              "</style>\n",
              "\n",
              "  <script>\n",
              "    async function quickchart(key) {\n",
              "      const quickchartButtonEl =\n",
              "        document.querySelector('#' + key + ' button');\n",
              "      quickchartButtonEl.disabled = true;  // To prevent multiple clicks.\n",
              "      quickchartButtonEl.classList.add('colab-df-spinner');\n",
              "      try {\n",
              "        const charts = await google.colab.kernel.invokeFunction(\n",
              "            'suggestCharts', [key], {});\n",
              "      } catch (error) {\n",
              "        console.error('Error during call to suggestCharts:', error);\n",
              "      }\n",
              "      quickchartButtonEl.classList.remove('colab-df-spinner');\n",
              "      quickchartButtonEl.classList.add('colab-df-quickchart-complete');\n",
              "    }\n",
              "    (() => {\n",
              "      let quickchartButtonEl =\n",
              "        document.querySelector('#df-4512fb57-080a-46b1-b2b5-c9b1d0fdf641 button');\n",
              "      quickchartButtonEl.style.display =\n",
              "        google.colab.kernel.accessAllowed ? 'block' : 'none';\n",
              "    })();\n",
              "  </script>\n",
              "</div>\n",
              "\n",
              "    </div>\n",
              "  </div>\n"
            ],
            "text/plain": [
              "   capital_cost  labor_cost  energy_cost  electricity_output(mkw)\n",
              "0        98.288       0.386       13.219                    1.270\n",
              "1       255.068       1.179       49.145                    4.597\n",
              "2       208.904       0.532       18.005                    1.985\n",
              "3       528.864       1.836       75.639                    9.897\n",
              "4       307.419       1.136       52.234                    5.907"
            ]
          },
          "execution_count": 19,
          "metadata": {},
          "output_type": "execute_result"
        }
      ],
      "source": [
        "df['electricity_output(mkw)'] = df['electricity_output(mkw)'].str.replace(\",\",\".\").astype('float64')\n",
        "df.head()"
      ]
    },
    {
      "cell_type": "code",
      "execution_count": null,
      "metadata": {
        "colab": {
          "base_uri": "https://localhost:8080/"
        },
        "id": "PqfFXpCwZn2j",
        "outputId": "328216af-2f8d-426f-d4ae-b2df7feb0584"
      },
      "outputs": [
        {
          "data": {
            "text/plain": [
              "(16, 4)"
            ]
          },
          "execution_count": 20,
          "metadata": {},
          "output_type": "execute_result"
        }
      ],
      "source": [
        "df.shape"
      ]
    },
    {
      "cell_type": "code",
      "execution_count": null,
      "metadata": {
        "id": "43YwLl96Zn2k"
      },
      "outputs": [],
      "source": [
        "X = df.drop(columns=['electricity_output(mkw)']).to_numpy()\n",
        "y = df['electricity_output(mkw)'].to_numpy()"
      ]
    },
    {
      "cell_type": "markdown",
      "metadata": {
        "id": "GXbiO7USauzA"
      },
      "source": [
        "## 2. Scale data\n",
        "\n",
        "$X_{scale} = \\dfrac{X - \\bar{X}}{X_{max} - X_{min}}$"
      ]
    },
    {
      "cell_type": "code",
      "execution_count": null,
      "metadata": {
        "id": "SUlom1SQbF0a"
      },
      "outputs": [],
      "source": [
        "def scale(x):\n",
        "  x = (x - x.mean())/(max(x) - min(x))\n",
        "  return x"
      ]
    },
    {
      "cell_type": "code",
      "execution_count": null,
      "metadata": {
        "colab": {
          "base_uri": "https://localhost:8080/"
        },
        "id": "-fWv0JIBG11P",
        "outputId": "003f1631-7eb5-4540-fb28-746ca7767407"
      },
      "outputs": [
        {
          "data": {
            "text/plain": [
              "array([[9.82880e+01, 3.86000e-01, 1.32190e+01],\n",
              "       [2.55068e+02, 1.17900e+00, 4.91450e+01],\n",
              "       [2.08904e+02, 5.32000e-01, 1.80050e+01],\n",
              "       [5.28864e+02, 1.83600e+00, 7.56390e+01],\n",
              "       [3.07419e+02, 1.13600e+00, 5.22340e+01],\n",
              "       [1.38283e+02, 1.08500e+00, 9.02700e+00],\n",
              "       [4.18883e+02, 2.39000e+00, 4.16760e+01],\n",
              "       [2.47439e+02, 1.35600e+00, 3.12440e+01],\n",
              "       [1.94780e+01, 1.15000e-01, 1.73900e+00],\n",
              "       [5.37540e+02, 2.59100e+00, 1.04584e+02],\n",
              "       [6.05507e+02, 2.78900e+00, 8.22960e+01],\n",
              "       [1.74765e+02, 9.33000e-01, 2.19900e+01],\n",
              "       [9.46766e+02, 4.00400e+00, 1.25351e+02],\n",
              "       [2.96490e+02, 1.51300e+00, 4.32320e+01],\n",
              "       [6.45690e+02, 2.54000e+00, 7.55810e+01],\n",
              "       [2.88975e+02, 1.41600e+00, 4.20370e+01]])"
            ]
          },
          "execution_count": 23,
          "metadata": {},
          "output_type": "execute_result"
        }
      ],
      "source": [
        "X"
      ]
    },
    {
      "cell_type": "code",
      "execution_count": null,
      "metadata": {
        "id": "1GY1wcPxaz1S"
      },
      "outputs": [],
      "source": [
        "X1 = scale(X[:, 0]).reshape(-1,1)\n",
        "X2 = scale(X[:, 1]).reshape(-1,1)\n",
        "X3 = scale(X[:, 2]).reshape(-1,1)\n",
        "\n",
        "X_scale = np.concatenate((X1,X2,X3), axis=1)"
      ]
    },
    {
      "cell_type": "markdown",
      "metadata": {
        "id": "QvC5-cxNeoSo"
      },
      "source": [
        "## 3. Split data into train and test set"
      ]
    },
    {
      "cell_type": "code",
      "execution_count": null,
      "metadata": {
        "colab": {
          "base_uri": "https://localhost:8080/"
        },
        "id": "WAQC2M1iHTqd",
        "outputId": "02d48767-b270-468f-dbf3-4da5a0c4a7d5"
      },
      "outputs": [
        {
          "data": {
            "text/plain": [
              "(16, 3)"
            ]
          },
          "execution_count": 25,
          "metadata": {},
          "output_type": "execute_result"
        }
      ],
      "source": [
        "X.shape"
      ]
    },
    {
      "cell_type": "code",
      "execution_count": null,
      "metadata": {
        "colab": {
          "base_uri": "https://localhost:8080/"
        },
        "id": "umtZgjFZsizQ",
        "outputId": "5af82bab-657a-481f-d161-9fa918615787"
      },
      "outputs": [
        {
          "data": {
            "text/plain": [
              "12"
            ]
          },
          "execution_count": 26,
          "metadata": {},
          "output_type": "execute_result"
        }
      ],
      "source": [
        "int(0.8*16)"
      ]
    },
    {
      "cell_type": "code",
      "execution_count": null,
      "metadata": {
        "id": "3qSwBHQ8caeT"
      },
      "outputs": [],
      "source": [
        "ratio = 0.8\n",
        "rows = int(ratio * X.shape[0])\n",
        "np.random.seed(42)\n",
        "np.random.shuffle(X_scale)\n",
        "X_train, X_test = X_scale[:rows], X_scale[rows:]"
      ]
    },
    {
      "cell_type": "code",
      "execution_count": null,
      "metadata": {
        "id": "a6UAzdkkaDRi"
      },
      "outputs": [],
      "source": [
        "ratio = 0.8\n",
        "rows = int(ratio * y.shape[0])\n",
        "np.random.seed(42)\n",
        "np.random.shuffle(y)\n",
        "y_train, y_test = y[:rows], y[rows:]"
      ]
    },
    {
      "cell_type": "code",
      "execution_count": null,
      "metadata": {
        "colab": {
          "base_uri": "https://localhost:8080/"
        },
        "id": "in8jJQpfZn2k",
        "outputId": "aef81100-36cc-42e1-da61-503ad09dd557"
      },
      "outputs": [
        {
          "data": {
            "text/plain": [
              "((12, 3), (12,))"
            ]
          },
          "execution_count": 29,
          "metadata": {},
          "output_type": "execute_result"
        }
      ],
      "source": [
        "X_train.shape, y_train.shape"
      ]
    },
    {
      "cell_type": "markdown",
      "metadata": {
        "id": "9gahla7rAyQ3"
      },
      "source": [
        "## 4. Building a model"
      ]
    },
    {
      "cell_type": "markdown",
      "metadata": {
        "id": "dTF35vm-Zn2l"
      },
      "source": [
        "model : $y_{predict} = \\vec{w} \\cdot \\vec{X} + b$"
      ]
    },
    {
      "cell_type": "code",
      "execution_count": null,
      "metadata": {
        "id": "WnXDqAdZZn2m"
      },
      "outputs": [],
      "source": [
        "def predict(X, w, b):\n",
        "    y = np.dot(X, w) + b\n",
        "    return y"
      ]
    },
    {
      "cell_type": "markdown",
      "metadata": {
        "id": "FeCMbSGSZn2m"
      },
      "source": [
        "Cost Function : $J(w,b) = \\dfrac{1}{2m} \\sum\\limits_{i=1}^m (y_{pred} - y)^2$"
      ]
    },
    {
      "cell_type": "code",
      "execution_count": null,
      "metadata": {
        "id": "NUq2pibAZn2m"
      },
      "outputs": [],
      "source": [
        "def cost_func(X, y, w, b):\n",
        "    m = X.shape[0]\n",
        "    error = predict(X, w, b) - y\n",
        "    cost = np.sum(error**2) / (2 * m)\n",
        "    return cost"
      ]
    },
    {
      "cell_type": "markdown",
      "metadata": {
        "id": "BrJNSAX7Jhl-"
      },
      "source": [
        "$\\dfrac{\\partial{J}}{\\partial{w_j}} = \\dfrac{1}{m} \\sum\\limits_{i=1}^m (y_{pred}^{(i)} - y^{(i)})w_{j}$\n",
        "\n",
        "$\\dfrac{\\partial{J}}{\\partial{b}} = \\dfrac{1}{m}\\sum\\limits_{i=1}^m (y_{pred}^{(i)} - y^{(i)})$"
      ]
    },
    {
      "cell_type": "code",
      "execution_count": null,
      "metadata": {
        "id": "6479iGYAZn2m"
      },
      "outputs": [],
      "source": [
        "def grad(X, y, w, b):\n",
        "    m, n = X.shape\n",
        "\n",
        "    dw = np.zeros(n)\n",
        "    db = 0\n",
        "\n",
        "    for i in range(m):\n",
        "        error = predict(X[i], w, b) - y[i]\n",
        "        dw += error * X[i]\n",
        "        db += error\n",
        "\n",
        "\n",
        "    dw /= m\n",
        "    db /= m\n",
        "\n",
        "    return dw, db"
      ]
    },
    {
      "cell_type": "code",
      "execution_count": null,
      "metadata": {
        "colab": {
          "base_uri": "https://localhost:8080/"
        },
        "id": "IxXHoSSWZn2m",
        "outputId": "b9b10d69-8eda-463c-cd45-86a3ba1f24bd"
      },
      "outputs": [
        {
          "name": "stdout",
          "output_type": "stream",
          "text": [
            "Iteration: 0, Cost: 9.176214323124912\n",
            "Iteration: 500, Cost: 0.17764079199829286\n",
            "Iteration: 1000, Cost: 0.14550933088671206\n",
            "Iteration: 1500, Cost: 0.12475014096742454\n",
            "Iteration: 2000, Cost: 0.11131343217703214\n",
            "Iteration: 2500, Cost: 0.10261416827706131\n",
            "Iteration: 3000, Cost: 0.09698025679169564\n",
            "Iteration: 3500, Cost: 0.09333007041762753\n",
            "Iteration: 4000, Cost: 0.09096388737992585\n",
            "Iteration: 4500, Cost: 0.08942900574404161\n",
            "Iteration: 5000, Cost: 0.08843250492862714\n",
            "Iteration: 5500, Cost: 0.08778482234151586\n",
            "Iteration: 6000, Cost: 0.08736325942585575\n",
            "Iteration: 6500, Cost: 0.08708837703118776\n",
            "Iteration: 7000, Cost: 0.0869087270703886\n",
            "Iteration: 7500, Cost: 0.08679097585117217\n",
            "Iteration: 8000, Cost: 0.08671351468020894\n",
            "Iteration: 8500, Cost: 0.08666232606953844\n",
            "Iteration: 9000, Cost: 0.08662830895119383\n",
            "Iteration: 9500, Cost: 0.08660554768518797\n",
            "Iteration: 10000, Cost: 0.0865901916256493\n",
            "\n",
            "Final weights: [ 0.29176563 -0.01792116 10.98210734]\n",
            "Final bias: 4.757975981800635\n",
            "Final cost: 0.0865901916256493\n"
          ]
        }
      ],
      "source": [
        "lr = 0.1\n",
        "w = np.zeros(X_train.shape[1])\n",
        "b = 0\n",
        "epochs = 10001\n",
        "cost = []\n",
        "\n",
        "for i in range(epochs):\n",
        "    dw, db = grad(X_train, y_train, w, b)\n",
        "\n",
        "    w -= lr * dw\n",
        "    b -= lr * db\n",
        "\n",
        "    cost_val = cost_func(X_train, y_train, w, b)\n",
        "    cost.append(cost_val)\n",
        "\n",
        "    if i % 500 == 0:  # Print cost every 1000 iterations\n",
        "        print(f'Iteration: {i}, Cost: {cost_val}')\n",
        "\n",
        "print(f'\\nFinal weights: {w}')\n",
        "print(f'Final bias: {b}')\n",
        "print(f'Final cost: {cost_val}')"
      ]
    },
    {
      "cell_type": "code",
      "execution_count": null,
      "metadata": {
        "colab": {
          "base_uri": "https://localhost:8080/",
          "height": 452
        },
        "id": "oFXDxC5YSWEV",
        "outputId": "16aee591-bb18-4847-a63c-b93de24aa957"
      },
      "outputs": [
        {
          "data": {
            "image/png": "[encoded data removed]",
            "text/plain": [
              "<Figure size 640x480 with 1 Axes>"
            ]
          },
          "metadata": {},
          "output_type": "display_data"
        }
      ],
      "source": [
        "plt.plot(range(epochs), cost, color= 'b')\n",
        "plt.title('Cost Function')\n",
        "plt.show()"
      ]
    },
    {
      "cell_type": "code",
      "execution_count": null,
      "metadata": {
        "id": "KCEtnGZlZn2n"
      },
      "outputs": [],
      "source": [
        "yhead = predict(X_train, w, b)"
      ]
    },
    {
      "cell_type": "code",
      "execution_count": null,
      "metadata": {
        "colab": {
          "base_uri": "https://localhost:8080/",
          "height": 425
        },
        "id": "PIU8MrcgZn2n",
        "outputId": "b3988f42-f532-4626-eb9d-76fdfddd83e0"
      },
      "outputs": [
        {
          "data": {
            "application/vnd.google.colaboratory.intrinsic+json": {
              "summary": "{\n  \"name\": \"diff\",\n  \"rows\": 12,\n  \"fields\": [\n    {\n      \"column\": \"Actual\",\n      \"properties\": {\n        \"dtype\": \"number\",\n        \"std\": 2.7200634838291196,\n        \"min\": 0.125,\n        \"max\": 9.685,\n        \"num_unique_values\": 12,\n        \"samples\": [\n          5.907,\n          3.507,\n          1.27\n        ],\n        \"semantic_type\": \"\",\n        \"description\": \"\"\n      }\n    },\n    {\n      \"column\": \"Predict\",\n      \"properties\": {\n        \"dtype\": \"number\",\n        \"std\": 2.68359353301237,\n        \"min\": 0.44307331687882456,\n        \"max\": 9.731765565485851,\n        \"num_unique_values\": 12,\n        \"samples\": [\n          5.015113541315825,\n          4.102084059533029,\n          1.4865435503407505\n        ],\n        \"semantic_type\": \"\",\n        \"description\": \"\"\n      }\n    },\n    {\n      \"column\": \"difference\",\n      \"properties\": {\n        \"dtype\": \"number\",\n        \"std\": 0.2806911588719894,\n        \"min\": 0.0391201835466537,\n        \"max\": 0.8918864586841746,\n        \"num_unique_values\": 12,\n        \"samples\": [\n          0.8918864586841746,\n          0.5950840595330287,\n          0.21654355034075046\n        ],\n        \"semantic_type\": \"\",\n        \"description\": \"\"\n      }\n    }\n  ]\n}",
              "type": "dataframe",
              "variable_name": "diff"
            },
            "text/html": [
              "\n",
              "  <div id=\"df-3679145b-0ee0-487b-aaf3-cb80afe9849b\" class=\"colab-df-container\">\n",
              "    <div>\n",
              "<style scoped>\n",
              "    .dataframe tbody tr th:only-of-type {\n",
              "        vertical-align: middle;\n",
              "    }\n",
              "\n",
              "    .dataframe tbody tr th {\n",
              "        vertical-align: top;\n",
              "    }\n",
              "\n",
              "    .dataframe thead th {\n",
              "        text-align: right;\n",
              "    }\n",
              "</style>\n",
              "<table border=\"1\" class=\"dataframe\">\n",
              "  <thead>\n",
              "    <tr style=\"text-align: right;\">\n",
              "      <th></th>\n",
              "      <th>Actual</th>\n",
              "      <th>Predict</th>\n",
              "      <th>difference</th>\n",
              "    </tr>\n",
              "  </thead>\n",
              "  <tbody>\n",
              "    <tr>\n",
              "      <th>0</th>\n",
              "      <td>1.270</td>\n",
              "      <td>1.486544</td>\n",
              "      <td>0.216544</td>\n",
              "    </tr>\n",
              "    <tr>\n",
              "      <th>1</th>\n",
              "      <td>4.597</td>\n",
              "      <td>4.724006</td>\n",
              "      <td>0.127006</td>\n",
              "    </tr>\n",
              "    <tr>\n",
              "      <th>2</th>\n",
              "      <td>1.832</td>\n",
              "      <td>1.123475</td>\n",
              "      <td>0.708525</td>\n",
              "    </tr>\n",
              "    <tr>\n",
              "      <th>3</th>\n",
              "      <td>7.037</td>\n",
              "      <td>7.189305</td>\n",
              "      <td>0.152305</td>\n",
              "    </tr>\n",
              "    <tr>\n",
              "      <th>4</th>\n",
              "      <td>4.477</td>\n",
              "      <td>4.210169</td>\n",
              "      <td>0.266831</td>\n",
              "    </tr>\n",
              "    <tr>\n",
              "      <th>5</th>\n",
              "      <td>2.239</td>\n",
              "      <td>2.287331</td>\n",
              "      <td>0.048331</td>\n",
              "    </tr>\n",
              "    <tr>\n",
              "      <th>6</th>\n",
              "      <td>0.125</td>\n",
              "      <td>0.443073</td>\n",
              "      <td>0.318073</td>\n",
              "    </tr>\n",
              "    <tr>\n",
              "      <th>7</th>\n",
              "      <td>9.685</td>\n",
              "      <td>9.731766</td>\n",
              "      <td>0.046766</td>\n",
              "    </tr>\n",
              "    <tr>\n",
              "      <th>8</th>\n",
              "      <td>1.985</td>\n",
              "      <td>1.945880</td>\n",
              "      <td>0.039120</td>\n",
              "    </tr>\n",
              "    <tr>\n",
              "      <th>9</th>\n",
              "      <td>3.507</td>\n",
              "      <td>4.102084</td>\n",
              "      <td>0.595084</td>\n",
              "    </tr>\n",
              "    <tr>\n",
              "      <th>10</th>\n",
              "      <td>5.907</td>\n",
              "      <td>5.015114</td>\n",
              "      <td>0.891886</td>\n",
              "    </tr>\n",
              "    <tr>\n",
              "      <th>11</th>\n",
              "      <td>2.728</td>\n",
              "      <td>3.130405</td>\n",
              "      <td>0.402405</td>\n",
              "    </tr>\n",
              "  </tbody>\n",
              "</table>\n",
              "</div>\n",
              "    <div class=\"colab-df-buttons\">\n",
              "\n",
              "  <div class=\"colab-df-container\">\n",
              "    <button class=\"colab-df-convert\" onclick=\"convertToInteractive('df-3679145b-0ee0-487b-aaf3-cb80afe9849b')\"\n",
              "            title=\"Convert this dataframe to an interactive table.\"\n",
              "            style=\"display:none;\">\n",
              "\n",
              "  <svg xmlns=\"http://www.w3.org/2000/svg\" height=\"24px\" viewBox=\"0 -960 960 960\">\n",
              "    <path d=\"M120-120v-720h720v720H120Zm60-500h600v-160H180v160Zm220 220h160v-160H400v160Zm0 220h160v-160H400v160ZM180-400h160v-160H180v160Zm440 0h160v-160H620v160ZM180-180h160v-160H180v160Zm440 0h160v-160H620v160Z\"/>\n",
              "  </svg>\n",
              "    </button>\n",
              "\n",
              "  <style>\n",
              "    .colab-df-container {\n",
              "      display:flex;\n",
              "      gap: 12px;\n",
              "    }\n",
              "\n",
              "    .colab-df-convert {\n",
              "      background-color: #E8F0FE;\n",
              "      border: none;\n",
              "      border-radius: 50%;\n",
              "      cursor: pointer;\n",
              "      display: none;\n",
              "      fill: #1967D2;\n",
              "      height: 32px;\n",
              "      padding: 0 0 0 0;\n",
              "      width: 32px;\n",
              "    }\n",
              "\n",
              "    .colab-df-convert:hover {\n",
              "      background-color: #E2EBFA;\n",
              "      box-shadow: 0px 1px 2px rgba(60, 64, 67, 0.3), 0px 1px 3px 1px rgba(60, 64, 67, 0.15);\n",
              "      fill: #174EA6;\n",
              "    }\n",
              "\n",
              "    .colab-df-buttons div {\n",
              "      margin-bottom: 4px;\n",
              "    }\n",
              "\n",
              "    [theme=dark] .colab-df-convert {\n",
              "      background-color: #3B4455;\n",
              "      fill: #D2E3FC;\n",
              "    }\n",
              "\n",
              "    [theme=dark] .colab-df-convert:hover {\n",
              "      background-color: #434B5C;\n",
              "      box-shadow: 0px 1px 3px 1px rgba(0, 0, 0, 0.15);\n",
              "      filter: drop-shadow(0px 1px 2px rgba(0, 0, 0, 0.3));\n",
              "      fill: #FFFFFF;\n",
              "    }\n",
              "  </style>\n",
              "\n",
              "    <script>\n",
              "      const buttonEl =\n",
              "        document.querySelector('#df-3679145b-0ee0-487b-aaf3-cb80afe9849b button.colab-df-convert');\n",
              "      buttonEl.style.display =\n",
              "        google.colab.kernel.accessAllowed ? 'block' : 'none';\n",
              "\n",
              "      async function convertToInteractive(key) {\n",
              "        const element = document.querySelector('#df-3679145b-0ee0-487b-aaf3-cb80afe9849b');\n",
              "        const dataTable =\n",
              "          await google.colab.kernel.invokeFunction('convertToInteractive',\n",
              "                                                    [key], {});\n",
              "        if (!dataTable) return;\n",
              "\n",
              "        const docLinkHtml = 'Like what you see? Visit the ' +\n",
              "          '<a target=\"_blank\" href=https://colab.research.google.com/notebooks/data_table.ipynb>data table notebook</a>'\n",
              "          + ' to learn more about interactive tables.';\n",
              "        element.innerHTML = '';\n",
              "        dataTable['output_type'] = 'display_data';\n",
              "        await google.colab.output.renderOutput(dataTable, element);\n",
              "        const docLink = document.createElement('div');\n",
              "        docLink.innerHTML = docLinkHtml;\n",
              "        element.appendChild(docLink);\n",
              "      }\n",
              "    </script>\n",
              "  </div>\n",
              "\n",
              "\n",
              "<div id=\"df-9d79aa97-bb73-45f5-a2de-49004b80ef4e\">\n",
              "  <button class=\"colab-df-quickchart\" onclick=\"quickchart('df-9d79aa97-bb73-45f5-a2de-49004b80ef4e')\"\n",
              "            title=\"Suggest charts\"\n",
              "            style=\"display:none;\">\n",
              "\n",
              "<svg xmlns=\"http://www.w3.org/2000/svg\" height=\"24px\"viewBox=\"0 0 24 24\"\n",
              "     width=\"24px\">\n",
              "    <g>\n",
              "        <path d=\"M19 3H5c-1.1 0-2 .9-2 2v14c0 1.1.9 2 2 2h14c1.1 0 2-.9 2-2V5c0-1.1-.9-2-2-2zM9 17H7v-7h2v7zm4 0h-2V7h2v10zm4 0h-2v-4h2v4z\"/>\n",
              "    </g>\n",
              "</svg>\n",
              "  </button>\n",
              "\n",
              "<style>\n",
              "  .colab-df-quickchart {\n",
              "      --bg-color: #E8F0FE;\n",
              "      --fill-color: #1967D2;\n",
              "      --hover-bg-color: #E2EBFA;\n",
              "      --hover-fill-color: #174EA6;\n",
              "      --disabled-fill-color: #AAA;\n",
              "      --disabled-bg-color: #DDD;\n",
              "  }\n",
              "\n",
              "  [theme=dark] .colab-df-quickchart {\n",
              "      --bg-color: #3B4455;\n",
              "      --fill-color: #D2E3FC;\n",
              "      --hover-bg-color: #434B5C;\n",
              "      --hover-fill-color: #FFFFFF;\n",
              "      --disabled-bg-color: #3B4455;\n",
              "      --disabled-fill-color: #666;\n",
              "  }\n",
              "\n",
              "  .colab-df-quickchart {\n",
              "    background-color: var(--bg-color);\n",
              "    border: none;\n",
              "    border-radius: 50%;\n",
              "    cursor: pointer;\n",
              "    display: none;\n",
              "    fill: var(--fill-color);\n",
              "    height: 32px;\n",
              "    padding: 0;\n",
              "    width: 32px;\n",
              "  }\n",
              "\n",
              "  .colab-df-quickchart:hover {\n",
              "    background-color: var(--hover-bg-color);\n",
              "    box-shadow: 0 1px 2px rgba(60, 64, 67, 0.3), 0 1px 3px 1px rgba(60, 64, 67, 0.15);\n",
              "    fill: var(--button-hover-fill-color);\n",
              "  }\n",
              "\n",
              "  .colab-df-quickchart-complete:disabled,\n",
              "  .colab-df-quickchart-complete:disabled:hover {\n",
              "    background-color: var(--disabled-bg-color);\n",
              "    fill: var(--disabled-fill-color);\n",
              "    box-shadow: none;\n",
              "  }\n",
              "\n",
              "  .colab-df-spinner {\n",
              "    border: 2px solid var(--fill-color);\n",
              "    border-color: transparent;\n",
              "    border-bottom-color: var(--fill-color);\n",
              "    animation:\n",
              "      spin 1s steps(1) infinite;\n",
              "  }\n",
              "\n",
              "  @keyframes spin {\n",
              "    0% {\n",
              "      border-color: transparent;\n",
              "      border-bottom-color: var(--fill-color);\n",
              "      border-left-color: var(--fill-color);\n",
              "    }\n",
              "    20% {\n",
              "      border-color: transparent;\n",
              "      border-left-color: var(--fill-color);\n",
              "      border-top-color: var(--fill-color);\n",
              "    }\n",
              "    30% {\n",
              "      border-color: transparent;\n",
              "      border-left-color: var(--fill-color);\n",
              "      border-top-color: var(--fill-color);\n",
              "      border-right-color: var(--fill-color);\n",
              "    }\n",
              "    40% {\n",
              "      border-color: transparent;\n",
              "      border-right-color: var(--fill-color);\n",
              "      border-top-color: var(--fill-color);\n",
              "    }\n",
              "    60% {\n",
              "      border-color: transparent;\n",
              "      border-right-color: var(--fill-color);\n",
              "    }\n",
              "    80% {\n",
              "      border-color: transparent;\n",
              "      border-right-color: var(--fill-color);\n",
              "      border-bottom-color: var(--fill-color);\n",
              "    }\n",
              "    90% {\n",
              "      border-color: transparent;\n",
              "      border-bottom-color: var(--fill-color);\n",
              "    }\n",
              "  }\n",
              "</style>\n",
              "\n",
              "  <script>\n",
              "    async function quickchart(key) {\n",
              "      const quickchartButtonEl =\n",
              "        document.querySelector('#' + key + ' button');\n",
              "      quickchartButtonEl.disabled = true;  // To prevent multiple clicks.\n",
              "      quickchartButtonEl.classList.add('colab-df-spinner');\n",
              "      try {\n",
              "        const charts = await google.colab.kernel.invokeFunction(\n",
              "            'suggestCharts', [key], {});\n",
              "      } catch (error) {\n",
              "        console.error('Error during call to suggestCharts:', error);\n",
              "      }\n",
              "      quickchartButtonEl.classList.remove('colab-df-spinner');\n",
              "      quickchartButtonEl.classList.add('colab-df-quickchart-complete');\n",
              "    }\n",
              "    (() => {\n",
              "      let quickchartButtonEl =\n",
              "        document.querySelector('#df-9d79aa97-bb73-45f5-a2de-49004b80ef4e button');\n",
              "      quickchartButtonEl.style.display =\n",
              "        google.colab.kernel.accessAllowed ? 'block' : 'none';\n",
              "    })();\n",
              "  </script>\n",
              "</div>\n",
              "\n",
              "  <div id=\"id_afd3b630-6c5b-4151-8578-2569e9013416\">\n",
              "    <style>\n",
              "      .colab-df-generate {\n",
              "        background-color: #E8F0FE;\n",
              "        border: none;\n",
              "        border-radius: 50%;\n",
              "        cursor: pointer;\n",
              "        display: none;\n",
              "        fill: #1967D2;\n",
              "        height: 32px;\n",
              "        padding: 0 0 0 0;\n",
              "        width: 32px;\n",
              "      }\n",
              "\n",
              "      .colab-df-generate:hover {\n",
              "        background-color: #E2EBFA;\n",
              "        box-shadow: 0px 1px 2px rgba(60, 64, 67, 0.3), 0px 1px 3px 1px rgba(60, 64, 67, 0.15);\n",
              "        fill: #174EA6;\n",
              "      }\n",
              "\n",
              "      [theme=dark] .colab-df-generate {\n",
              "        background-color: #3B4455;\n",
              "        fill: #D2E3FC;\n",
              "      }\n",
              "\n",
              "      [theme=dark] .colab-df-generate:hover {\n",
              "        background-color: #434B5C;\n",
              "        box-shadow: 0px 1px 3px 1px rgba(0, 0, 0, 0.15);\n",
              "        filter: drop-shadow(0px 1px 2px rgba(0, 0, 0, 0.3));\n",
              "        fill: #FFFFFF;\n",
              "      }\n",
              "    </style>\n",
              "    <button class=\"colab-df-generate\" onclick=\"generateWithVariable('diff')\"\n",
              "            title=\"Generate code using this dataframe.\"\n",
              "            style=\"display:none;\">\n",
              "\n",
              "  <svg xmlns=\"http://www.w3.org/2000/svg\" height=\"24px\"viewBox=\"0 0 24 24\"\n",
              "       width=\"24px\">\n",
              "    <path d=\"M7,19H8.4L18.45,9,17,7.55,7,17.6ZM5,21V16.75L18.45,3.32a2,2,0,0,1,2.83,0l1.4,1.43a1.91,1.91,0,0,1,.58,1.4,1.91,1.91,0,0,1-.58,1.4L9.25,21ZM18.45,9,17,7.55Zm-12,3A5.31,5.31,0,0,0,4.9,8.1,5.31,5.31,0,0,0,1,6.5,5.31,5.31,0,0,0,4.9,4.9,5.31,5.31,0,0,0,6.5,1,5.31,5.31,0,0,0,8.1,4.9,5.31,5.31,0,0,0,12,6.5,5.46,5.46,0,0,0,6.5,12Z\"/>\n",
              "  </svg>\n",
              "    </button>\n",
              "    <script>\n",
              "      (() => {\n",
              "      const buttonEl =\n",
              "        document.querySelector('#id_afd3b630-6c5b-4151-8578-2569e9013416 button.colab-df-generate');\n",
              "      buttonEl.style.display =\n",
              "        google.colab.kernel.accessAllowed ? 'block' : 'none';\n",
              "\n",
              "      buttonEl.onclick = () => {\n",
              "        google.colab.notebook.generateWithVariable('diff');\n",
              "      }\n",
              "      })();\n",
              "    </script>\n",
              "  </div>\n",
              "\n",
              "    </div>\n",
              "  </div>\n"
            ],
            "text/plain": [
              "    Actual   Predict  difference\n",
              "0    1.270  1.486544    0.216544\n",
              "1    4.597  4.724006    0.127006\n",
              "2    1.832  1.123475    0.708525\n",
              "3    7.037  7.189305    0.152305\n",
              "4    4.477  4.210169    0.266831\n",
              "5    2.239  2.287331    0.048331\n",
              "6    0.125  0.443073    0.318073\n",
              "7    9.685  9.731766    0.046766\n",
              "8    1.985  1.945880    0.039120\n",
              "9    3.507  4.102084    0.595084\n",
              "10   5.907  5.015114    0.891886\n",
              "11   2.728  3.130405    0.402405"
            ]
          },
          "execution_count": 36,
          "metadata": {},
          "output_type": "execute_result"
        }
      ],
      "source": [
        "diff = pd.DataFrame({\n",
        "    'Actual' : y_train,\n",
        "    'Predict' : yhead,\n",
        "    'difference' : abs(y_train - yhead)\n",
        "})\n",
        "\n",
        "diff"
      ]
    },
    {
      "cell_type": "markdown",
      "metadata": {
        "id": "zjtUFHKpg7Bh"
      },
      "source": [
        "## + **R2 Formula**\n",
        "\n",
        "$R^2 = 1 - \\dfrac{SSR}{SST}$\n",
        "\n",
        "where $SSR = \\sum\\limits_{i=1}^m (y_i - y_{pred_i})^2$ and $SST = \\sum\\limits_{i=1}^m (y_i - \\bar{y})^2$"
      ]
    },
    {
      "cell_type": "code",
      "execution_count": null,
      "metadata": {
        "id": "mbkmQTagg9tI"
      },
      "outputs": [],
      "source": [
        "def r2_score(y_train, y_pred):\n",
        "  SSR = np.sum((y_train - y_pred)**2)\n",
        "  SST = np.sum((y_train - y_train.mean())**2)\n",
        "  r2 = 1 - SSR/SST\n",
        "  return r2"
      ]
    },
    {
      "cell_type": "code",
      "execution_count": null,
      "metadata": {
        "colab": {
          "base_uri": "https://localhost:8080/"
        },
        "id": "njYPb3mkZn2n",
        "outputId": "ea8264ab-1ae4-452b-fc86-a3f3b6114b1d"
      },
      "outputs": [
        {
          "name": "stdout",
          "output_type": "stream",
          "text": [
            " R2 Score : 0.974465393068136\n"
          ]
        }
      ],
      "source": [
        "r2 = r2_score(y_train, yhead)\n",
        "print(f' R2 Score : {r2}')"
      ]
    },
    {
      "cell_type": "code",
      "execution_count": null,
      "metadata": {
        "colab": {
          "base_uri": "https://localhost:8080/",
          "height": 450
        },
        "id": "OXmgray9Zn2n",
        "outputId": "6844a01e-8b32-46f0-a95c-a66e97da5933"
      },
      "outputs": [
        {
          "data": {
            "image/png": "[encoded data removed]",
            "text/plain": [
              "<Figure size 640x480 with 1 Axes>"
            ]
          },
          "metadata": {},
          "output_type": "display_data"
        }
      ],
      "source": [
        "plt.scatter(y_train, yhead, color = 'b')\n",
        "plt.grid()\n",
        "plt.xlabel(\"y_train\")\n",
        "plt.ylabel(\"y_predict\")\n",
        "plt.show()"
      ]
    },
    {
      "cell_type": "code",
      "execution_count": null,
      "metadata": {
        "colab": {
          "base_uri": "https://localhost:8080/"
        },
        "id": "dryYkrpEZn2n",
        "outputId": "7bd369b8-6b40-4412-f5a1-905ff370cefa"
      },
      "outputs": [
        {
          "name": "stdout",
          "output_type": "stream",
          "text": [
            "Actual value : 8.727 VS Predicted Value : 7.772097404052868\n",
            "Actual value : 10.077 VS Predicted Value : 11.699025119799021\n",
            "Actual value : 9.897 VS Predicted Value : 7.160943374613607\n",
            "Actual value : 4.865 VS Predicted Value : 4.106398021576683\n"
          ]
        }
      ],
      "source": [
        "y_predict = predict(X_test, w, b )\n",
        "for i in range(len(y_test)):\n",
        "\n",
        "    print(f'Actual value : {y_test[i]} VS Predicted Value : {y_predict[i]}')"
      ]
    },
    {
      "cell_type": "markdown",
      "metadata": {
        "id": "RnKYri9a29tU"
      },
      "source": [
        "# 5. Using Scikit-learn Module"
      ]
    },
    {
      "cell_type": "code",
      "execution_count": null,
      "metadata": {
        "id": "SZeQYPnc7k5l"
      },
      "outputs": [],
      "source": [
        "df = pd.read_fwf('x12.txt', names=['capital_cost', 'labor_cost', 'energy_cost', 'electricity_output(mkw)'])\n",
        "df['electricity_output(mkw)'] = df['electricity_output(mkw)'].str.replace(\",\",\".\").astype('float64')\n",
        "X = df.drop(columns=['electricity_output(mkw)']).to_numpy()\n",
        "y = df['electricity_output(mkw)'].to_numpy()"
      ]
    },
    {
      "cell_type": "code",
      "execution_count": null,
      "metadata": {
        "id": "A5IyCbRn6NDE"
      },
      "outputs": [],
      "source": [
        "from sklearn.preprocessing import StandardScaler\n",
        "scale = StandardScaler()\n",
        "X_scale = scale.fit_transform(X)"
      ]
    },
    {
      "cell_type": "code",
      "execution_count": null,
      "metadata": {
        "id": "tixtoE2k2ukj"
      },
      "outputs": [],
      "source": [
        "from sklearn.model_selection import train_test_split\n",
        "\n",
        "X_train, X_test, y_train, y_test = train_test_split(X_scale, y, test_size=0.2, random_state=42)"
      ]
    },
    {
      "cell_type": "code",
      "execution_count": null,
      "metadata": {
        "colab": {
          "base_uri": "https://localhost:8080/",
          "height": 74
        },
        "id": "Gkx4104N3DDK",
        "outputId": "3216c5ee-6d10-4e93-b10b-c766c45a4f21"
      },
      "outputs": [
        {
          "data": {
            "text/html": [
              "<style>#sk-container-id-1 {color: black;background-color: white;}#sk-container-id-1 pre{padding: 0;}#sk-container-id-1 div.sk-toggleable {background-color: white;}#sk-container-id-1 label.sk-toggleable__label {cursor: pointer;display: block;width: 100%;margin-bottom: 0;padding: 0.3em;box-sizing: border-box;text-align: center;}#sk-container-id-1 label.sk-toggleable__label-arrow:before {content: \"▸\";float: left;margin-right: 0.25em;color: #696969;}#sk-container-id-1 label.sk-toggleable__label-arrow:hover:before {color: black;}#sk-container-id-1 div.sk-estimator:hover label.sk-toggleable__label-arrow:before {color: black;}#sk-container-id-1 div.sk-toggleable__content {max-height: 0;max-width: 0;overflow: hidden;text-align: left;background-color: #f0f8ff;}#sk-container-id-1 div.sk-toggleable__content pre {margin: 0.2em;color: black;border-radius: 0.25em;background-color: #f0f8ff;}#sk-container-id-1 input.sk-toggleable__control:checked~div.sk-toggleable__content {max-height: 200px;max-width: 100%;overflow: auto;}#sk-container-id-1 input.sk-toggleable__control:checked~label.sk-toggleable__label-arrow:before {content: \"▾\";}#sk-container-id-1 div.sk-estimator input.sk-toggleable__control:checked~label.sk-toggleable__label {background-color: #d4ebff;}#sk-container-id-1 div.sk-label input.sk-toggleable__control:checked~label.sk-toggleable__label {background-color: #d4ebff;}#sk-container-id-1 input.sk-hidden--visually {border: 0;clip: rect(1px 1px 1px 1px);clip: rect(1px, 1px, 1px, 1px);height: 1px;margin: -1px;overflow: hidden;padding: 0;position: absolute;width: 1px;}#sk-container-id-1 div.sk-estimator {font-family: monospace;background-color: #f0f8ff;border: 1px dotted black;border-radius: 0.25em;box-sizing: border-box;margin-bottom: 0.5em;}#sk-container-id-1 div.sk-estimator:hover {background-color: #d4ebff;}#sk-container-id-1 div.sk-parallel-item::after {content: \"\";width: 100%;border-bottom: 1px solid gray;flex-grow: 1;}#sk-container-id-1 div.sk-label:hover label.sk-toggleable__label {background-color: #d4ebff;}#sk-container-id-1 div.sk-serial::before {content: \"\";position: absolute;border-left: 1px solid gray;box-sizing: border-box;top: 0;bottom: 0;left: 50%;z-index: 0;}#sk-container-id-1 div.sk-serial {display: flex;flex-direction: column;align-items: center;background-color: white;padding-right: 0.2em;padding-left: 0.2em;position: relative;}#sk-container-id-1 div.sk-item {position: relative;z-index: 1;}#sk-container-id-1 div.sk-parallel {display: flex;align-items: stretch;justify-content: center;background-color: white;position: relative;}#sk-container-id-1 div.sk-item::before, #sk-container-id-1 div.sk-parallel-item::before {content: \"\";position: absolute;border-left: 1px solid gray;box-sizing: border-box;top: 0;bottom: 0;left: 50%;z-index: -1;}#sk-container-id-1 div.sk-parallel-item {display: flex;flex-direction: column;z-index: 1;position: relative;background-color: white;}#sk-container-id-1 div.sk-parallel-item:first-child::after {align-self: flex-end;width: 50%;}#sk-container-id-1 div.sk-parallel-item:last-child::after {align-self: flex-start;width: 50%;}#sk-container-id-1 div.sk-parallel-item:only-child::after {width: 0;}#sk-container-id-1 div.sk-dashed-wrapped {border: 1px dashed gray;margin: 0 0.4em 0.5em 0.4em;box-sizing: border-box;padding-bottom: 0.4em;background-color: white;}#sk-container-id-1 div.sk-label label {font-family: monospace;font-weight: bold;display: inline-block;line-height: 1.2em;}#sk-container-id-1 div.sk-label-container {text-align: center;}#sk-container-id-1 div.sk-container {/* jupyter's `normalize.less` sets `[hidden] { display: none; }` but bootstrap.min.css set `[hidden] { display: none !important; }` so we also need the `!important` here to be able to override the default hidden behavior on the sphinx rendered scikit-learn.org. See: https://github.com/scikit-learn/scikit-learn/issues/21755 */display: inline-block !important;position: relative;}#sk-container-id-1 div.sk-text-repr-fallback {display: none;}</style><div id=\"sk-container-id-1\" class=\"sk-top-container\"><div class=\"sk-text-repr-fallback\"><pre>LinearRegression()</pre><b>In a Jupyter environment, please rerun this cell to show the HTML representation or trust the notebook. <br />On GitHub, the HTML representation is unable to render, please try loading this page with nbviewer.org.</b></div><div class=\"sk-container\" hidden><div class=\"sk-item\"><div class=\"sk-estimator sk-toggleable\"><input class=\"sk-toggleable__control sk-hidden--visually\" id=\"sk-estimator-id-1\" type=\"checkbox\" checked><label for=\"sk-estimator-id-1\" class=\"sk-toggleable__label sk-toggleable__label-arrow\">LinearRegression</label><div class=\"sk-toggleable__content\"><pre>LinearRegression()</pre></div></div></div></div></div>"
            ],
            "text/plain": [
              "LinearRegression()"
            ]
          },
          "execution_count": 44,
          "metadata": {},
          "output_type": "execute_result"
        }
      ],
      "source": [
        "from sklearn.linear_model import LinearRegression\n",
        "\n",
        "model = LinearRegression()\n",
        "model.fit(X_train, y_train)"
      ]
    },
    {
      "cell_type": "code",
      "execution_count": null,
      "metadata": {
        "colab": {
          "base_uri": "https://localhost:8080/"
        },
        "id": "wpasZ1H33XQP",
        "outputId": "a9db716a-0ea6-4a01-a380-4d582f0b2363"
      },
      "outputs": [
        {
          "name": "stdout",
          "output_type": "stream",
          "text": [
            "r2 score : 0.9150399356790218, mse : 0.9423300853427478\n"
          ]
        }
      ],
      "source": [
        "from sklearn.metrics import r2_score, mean_squared_error\n",
        "y_head = model.predict(X_train)\n",
        "\n",
        "r2 = r2_score(y_train, y_head)\n",
        "mse = mean_squared_error(y_train, y_head)\n",
        "print(f'r2 score : {r2}, mse : {mse}')"
      ]
    }
  ],
  "metadata": {
    "colab": {
      "provenance": []
    },
    "kernelspec": {
      "display_name": "Python 3",
      "language": "python",
      "name": "python3"
    },
    "language_info": {
      "codemirror_mode": {
        "name": "ipython",
        "version": 3
      },
      "file_extension": ".py",
      "mimetype": "text/x-python",
      "name": "python",
      "nbconvert_exporter": "python",
      "pygments_lexer": "ipython3",
      "version": "3.11.8"
    }
  },
  "nbformat": 4,
  "nbformat_minor": 0
}
